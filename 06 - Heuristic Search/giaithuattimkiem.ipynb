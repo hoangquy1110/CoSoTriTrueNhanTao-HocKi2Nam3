{
 "cells": [
  {
   "cell_type": "markdown",
   "id": "d810fb32",
   "metadata": {},
   "source": [
    "# CÁC THUẬT GIẢI TÌM KIẾM HEURISTICS\n"
   ]
  },
  {
   "cell_type": "markdown",
   "id": "45f9f521",
   "metadata": {},
   "source": [
    "## Nội dung\n",
    "1. Tìm kiếm với tri thức bổ sung\n",
    "\n",
    "- Tháp Hà Nội\n",
    "\n",
    "- Taci\n",
    "\n",
    "- Đong sữa\n",
    "\n",
    "2. Bài toán người bán hàng (TSP - Traveling Salesman Problem)\n",
    "\n",
    "- Thuật giải min-max"
   ]
  },
  {
   "cell_type": "markdown",
   "id": "0f52b3ce",
   "metadata": {},
   "source": [
    "## Thuật giải tìm kiếm với tri thức bổ sung"
   ]
  },
  {
   "cell_type": "markdown",
   "id": "d238817d",
   "metadata": {},
   "source": [
    "### Aᵀ (Algorithm for Tree Search)\n",
    "1. Mọi đỉnh n, mọi hàm g đều ẩn\n",
    "\n",
    "- Mở đỉnh S₀\n",
    "\n",
    "- Gán g(S₀) = 0\n",
    "\n",
    "2. Chọn đỉnh mở với hàm g là nhỏ nhất và gọi là đỉnh n.\n",
    "\n",
    "- Nếu u là đích thì đường đi từ S₀ → u là đường đi ngắn nhất."
   ]
  },
  {
   "cell_type": "markdown",
   "id": "ebc562f6",
   "metadata": {},
   "source": [
    "### Aᵀ (Algorithm for Tree Search)\n",
    "1. Nếu tồn tại nhiều hơn một đỉnh n có hàm g là nhỏ nhất thì ta kiểm tra xem trong đó có đỉnh nào là đích hay không, nếu có dừng. Nếu không thì chọn ngẫu nhiên 1 đỉnh gọi là đỉnh u.\n",
    "\n",
    "2. Nếu không tồn tại đỉnh mở tương ứng thì cây biểu diễn vấn đề không có đường đi ngắn nhất đến đích. Dừng lại.\n",
    "\n",
    "3. Đóng n và mở mọi đỉnh sau n (có cùng hướng từ u đến)\n",
    "\n",
    "- ∀ đỉnh S sau n:\n",
    "\n",
    "- G(s) = g(u) + giá thành (u → s) // cost(u,s)\n",
    "\n",
    "4. Lặp lại bước 2."
   ]
  },
  {
   "cell_type": "markdown",
   "id": "73d2e3fc",
   "metadata": {},
   "source": [
    "### Ví dụ\n",
    "\n",
    "- Cho cây tìm kiếm sau:\n",
    "\n",
    "![image](caytimkiem.png)\n",
    "\n",
    "- Tìm đường đi ngắn nhất từ A → đích "
   ]
  },
  {
   "cell_type": "code",
   "execution_count": 5,
   "id": "3b3c1fca",
   "metadata": {},
   "outputs": [],
   "source": [
    "class TreeSearch:\n",
    "    def __init__(self, graph):\n",
    "        self.graph = graph\n",
    "        self.opened = []\n",
    "        self.closed = []\n",
    "        self.g = {}\n",
    "        self.parent = {}  # Để lưu đường đi\n",
    "\n",
    "    def search(self, start, goal):\n",
    "        self.opened.append(start)\n",
    "        self.g[start] = 0\n",
    "        self.parent[start] = None\n",
    "\n",
    "        while self.opened:\n",
    "            # Bước 2: Chọn đỉnh có g nhỏ nhất\n",
    "            min_g = min(self.g[node] for node in self.opened)\n",
    "            candidates = [node for node in self.opened if self.g[node] == min_g]\n",
    "\n",
    "            # Kiểm tra nếu có đỉnh nào là đích\n",
    "            for node in candidates:\n",
    "                if node == goal:\n",
    "                    return self.reconstruct_path(goal)\n",
    "\n",
    "            # Nếu không, chọn ngẫu nhiên một đỉnh\n",
    "            n = candidates[0]  # Hoặc sử dụng random.choice(candidates)\n",
    "            self.opened.remove(n)\n",
    "            self.closed.append(n)\n",
    "\n",
    "            # Bước 3: Mở các đỉnh sau n\n",
    "            for neighbor in self.graph[n]:\n",
    "                if neighbor in self.closed:\n",
    "                    continue\n",
    "\n",
    "                new_g = self.g[n] + self.graph[n][neighbor]\n",
    "\n",
    "                if neighbor not in self.g or new_g < self.g[neighbor]:\n",
    "                    self.g[neighbor] = new_g\n",
    "                    self.parent[neighbor] = n\n",
    "                    if neighbor not in self.opened:\n",
    "                        self.opened.append(neighbor)\n",
    "\n",
    "        # Bước 2: Không tồn tại đỉnh mở\n",
    "        return None  # Không tìm thấy đường đi\n",
    "\n",
    "    def reconstruct_path(self, node):\n",
    "        path = []\n",
    "        while node is not None:\n",
    "            path.append(node)\n",
    "            node = self.parent[node]\n",
    "        return path[::-1]"
   ]
  },
  {
   "cell_type": "code",
   "execution_count": 6,
   "id": "d3315046",
   "metadata": {},
   "outputs": [
    {
     "name": "stdout",
     "output_type": "stream",
     "text": [
      "Shortest path: ['A', 'D', 'R', 'S']\n"
     ]
    }
   ],
   "source": [
    "graph = {\n",
    "    'A': {'B': 2, 'C': 1, 'D': 3},\n",
    "    'B': {'E': 5, 'F': 1},\n",
    "    'C': {'H': 4},\n",
    "    'D': {'J': 2, 'R': 3},\n",
    "    'E': {},\n",
    "    'F': {'G': 6},\n",
    "    'H': {'I': 3},\n",
    "    'J': {'L': 3},\n",
    "    'R': {'S': 1},\n",
    "    'G': {},\n",
    "    'I': {},\n",
    "    'L': {},\n",
    "    'S': {}\n",
    "}\n",
    "\n",
    "searcher = TreeSearch(graph)\n",
    "path = searcher.search('A', 'S')\n",
    "print(\"Shortest path:\", path)"
   ]
  },
  {
   "cell_type": "markdown",
   "id": "35d07d38",
   "metadata": {},
   "source": [
    "### Thuật giải Aᴷᵀ\n",
    "\n",
    "**B1:** Mọi đỉnh n, mọi hàm g,h,f đều ẩn.\n",
    "\n",
    "- Mở đỉnh đầu tiên S₀\n",
    "\n",
    "- Gán g(S₀) = 0\n",
    "\n",
    "- Sử dụng tri thức bổ sung ước lượng h(S₀)\n",
    "\n",
    "- F(S₀) = h(S₀)\n",
    "\n",
    "**B2:** Chọn đỉnh mở tương ứng với hàm f là nhỏ nhất và gọi đỉnh này là đỉnh n.\n",
    "\n",
    "- Nếu n là đích thì đường đi từ S₀ → n là đường đi ngắn nhất đến đích nên dừng (thành công).\n",
    "\n",
    "- Nếu không tồn tại đỉnh mở tương ứng nào thì cây biểu diễn vấn đề không có đường đi đến đích nên dừng (thất bại).\n",
    "\n",
    "- Nếu tồn tại nhiều hơn 1 đỉnh mở cùng hàm f là nhỏ nhất thì kiểm tra xem trong số này có đỉnh nào là đích hay không?\n",
    "\n",
    "Nếu có thì dừng, nếu không thì chọn ngẫu nhiên 1 đỉnh gọi là đỉnh n.\n",
    "\n",
    "**B3:** Đóng đỉnh n và mọi đỉnh sau n (đỉnh sau n là đỉnh có cung hướng từ n đến)\n",
    "\n",
    "∀ đỉnh S sau n:\n",
    "\n",
    "- g(S) = g(n) + chi phí từ n đến S\n",
    "\n",
    "- Sử dụng tri thức bổ sung ước lượng h(S)\n",
    "\n",
    "- f(S) = g(S) + h(S)\n",
    "\n",
    "**B4:** Quay lại B2."
   ]
  },
  {
   "cell_type": "markdown",
   "id": "895ca2cb",
   "metadata": {},
   "source": [
    "### Ví dụ tháp Hà Nội\n",
    "\n",
    "![image](thaphanoi.png)\n"
   ]
  },
  {
   "cell_type": "markdown",
   "id": "72636a79",
   "metadata": {},
   "source": [
    "### Với N = 3\n",
    "\n",
    "![image](voin=3.png)\n",
    "\n",
    "![image](voin=3.1.png)\n",
    "\n",
    "![image](voin=3.2.png)"
   ]
  },
  {
   "cell_type": "markdown",
   "id": "bf4b6949",
   "metadata": {},
   "source": [
    "### Thuật giải A*\n",
    "\n",
    "**B1:** Mọi đỉnh n, mọi hàm g,h,f đều ẩn. \n",
    "\n",
    "Mở đỉnh đầu tiên S₀\n",
    "\n",
    "Gán g(S₀) = 0\n",
    "\n",
    "Sử dụng tri thức bổ sung ước lượng h(S₀)\n",
    "\n",
    "f(S₀) = h(S₀)\n",
    "\n",
    "O = {S₀}\n",
    "\n",
    "**B2:** Chọn đỉnh trong O với hàm f là nhỏ nhất và gọi là đỉnh n.\n",
    "\n",
    "- Nếu n là đích thì đường đi từ S₀ → n là đường đi ngắn nhất đến đích nên dừng (thành công).\n",
    "\n",
    "- Nếu không tồn tại đỉnh mở tương ứng nào thì cây biểu diễn vấn đề không có đường đi đến đích nên dừng (thất bại).\n",
    "\n",
    "- Nếu tồn tại nhiều hơn 1 đỉnh mở cùng hàm f là nhỏ nhất thì kiểm tra xem trong số này có đỉnh nào là đích hay không?\n",
    "\n",
    "Nếu có thì dừng, nếu không thì chọn ngẫu nhiên 1 đỉnh gọi là đỉnh n.\n",
    "\n",
    "- O = O - {n}\n",
    "\n",
    "- C = C + {n}\n",
    "\n",
    "**B3:**\n",
    "\n",
    "∀ đỉnh S sau n:\n",
    "\n",
    "- g(S) = g(n) + chi phí từ n đến S\n",
    "\n",
    "- Sử dụng tri thức bổ sung ước lượng h(S)\n",
    "\n",
    "- f(S) = g(S) + h(S)\n",
    "\n",
    "- Đặt vào trong O các đỉnh S không có trong O lẫn tronng C.\n",
    "\n",
    "- ∀ đỉnh S đã có trong O\n",
    "\n",
    "    + f(S) = min (f cũ (S), f mới (S))\n",
    "\n",
    "- ∀ đỉnh của S đã có trong C\n",
    "\n",
    "    + Nếu f mới (S) < f cũ (S) thì\n",
    "        \n",
    "        * O = O + {S}\n",
    "\n",
    "        * C = C - {S}\n",
    "\n",
    "**B4:** Quay lại B2\n",
    "\n",
    "S = START \n",
    "\n",
    "Ước lượng h(S)\n",
    "\n",
    "g(S) = 0 \n",
    "\n",
    "f(S) = h(S)\n",
    "\n",
    "Insert - PriQueue(O,S,f(S))\n",
    "\n",
    "While  (O ≠ ⌀) do \n",
    "\n",
    "s = Pop_least(O)\n",
    "\n",
    "Nếu s = GOAL thì\n",
    "\n",
    "return SUCCESS\n",
    "\n",
    "∀ s' ∈ success(s)\n",
    "\n",
    "g(s') = g(s) + cost(s,s')\n",
    "\n",
    "Ước lượng h(s')\n",
    "\n",
    "Nếu s' chưa gán nhãn \n",
    "\n",
    "hoặc g(s') + h(s') < f(s')\n",
    "\n",
    "f(s') = g(s') + h(s')\n",
    "\n",
    "Insert - PriQueue(O,S',f(S'))\n",
    "\n",
    "cuối nếu \n",
    "\n",
    "cuối ∀\n",
    "\n",
    "Cuối while\n"
   ]
  },
  {
   "cell_type": "markdown",
   "id": "a606ee9a",
   "metadata": {},
   "source": [
    "### Với N = 3\n",
    "\n",
    "![image](voin=3.1.1.png)\n",
    "\n",
    "![image](voin=3.1.2.png)\n",
    "\n",
    "![image](voin=3.1.3.png)"
   ]
  },
  {
   "cell_type": "markdown",
   "id": "701a3cac",
   "metadata": {},
   "source": [
    "### Bài toán taci\n",
    "\n",
    "![image](baitoantaci.png)\n",
    "\n",
    "**h₁(a,b)** = Số vị trí có giá trị khác nhau giữa 2 cấu hình a và b.\n",
    "\n",
    "**h₂(a,b)** = ∑ i∈[1,8] ∂(i<sub>a</sub>,i<sub>b</sub>)\n",
    "\n",
    "Trong đó ∂(i<sub>a</sub>,i<sub>b</sub>) = Số lần ít nhất phải di chuyển giá trị i ở cấu hình a theo chiều ngang / dọc về đúng vị trí của giá trị i ở cấu hình b.\n",
    "\n",
    "Ví dụ trên:\n",
    "\n",
    "h<sub>1</sub>(START,GOAL) = 0 + 0 + 0 + 1 + 1 + 1 + 0 + 0 = 3\n",
    "\n",
    "h<sub>2</sub>(START,GOAL) = 0 + 0 + 0 + 2 + 2 + 1 + 0 + 0 = 5"
   ]
  },
  {
   "cell_type": "markdown",
   "id": "67a6dda0",
   "metadata": {},
   "source": [
    "![image](H1.png)\n",
    "\n",
    "Vấn đề đặt ra: làm thế nào để tính nhanh được h của cấu hình sau (h<sub>g+1</sub>) theo h của cấu hình trước (h<sub>g</sub>)?"
   ]
  },
  {
   "cell_type": "markdown",
   "id": "fa3bc855",
   "metadata": {},
   "source": [
    "![image](H2.png)\n",
    "\n",
    "Vấn đề đặt ra: Làm thế nào để tính nhanh được h của cấu hình sau (h<sub>g+1</sub>) theo h của cấu hình trước (h<sub>g</sub>)?"
   ]
  },
  {
   "cell_type": "markdown",
   "id": "24a6fa55",
   "metadata": {},
   "source": [
    "![image](btds.png)"
   ]
  },
  {
   "cell_type": "markdown",
   "id": "edf3fe81",
   "metadata": {},
   "source": [
    "### Thuật giải hướng đích cho bài toán tháp hà nội\n",
    "\n",
    "- Gọi n là số dĩa cần di chuyển từ cột A sang cột C với cột B làm trung gian. Chi tiết thuật giải như sau:\n",
    "\n",
    "- Cho i chạy từ từ  1 đến x<sup>2</sup> -1:\n",
    "\n",
    "    - Nếu i lẻ: Chuyển đĩa 1 theo chiều\n",
    "\n",
    "        - A &rarr; B &rarr; C &rarr; A nếu n chẵn\n",
    "\n",
    "        - A &rarr; C &rarr; B &rarr; A nếu n lẻ\n",
    "\n",
    "    - Ngược lại:\n",
    "\n",
    "        - Chuyển đĩa nhỏ (khác đĩa 1) sang cột còn lại."
   ]
  },
  {
   "cell_type": "markdown",
   "id": "6fdc0a2b",
   "metadata": {},
   "source": [
    "### Thuật giải hướng đích (N=4)\n",
    "\n",
    "Cho i chạy từ 1 đến 2<sup>n</sup> -1:\n",
    "\n",
    "- Nếu i lẻ: Chuyển dĩa 1 theo chiều:\n",
    "\n",
    "    - A &rarr; B &rarr; C &rarr; A nếu n chẵn\n",
    "\n",
    "    - A &rarr; C &rarr; B &rarr; A nếu n lẻ\n",
    "\n",
    "Ngược lại: Chuyển dĩa nhỏ (khác đĩa 1) sang cột còn lại.\n",
    "\n",
    "![image](n=4.png)"
   ]
  },
  {
   "cell_type": "markdown",
   "id": "61d7881e",
   "metadata": {},
   "source": [
    "### Bài toán người bán hàng (TSP)\n",
    "\n",
    "Bài toán: Một người bán hàng muốn đi qua n thành phố, mỗi thành phố đúng 1 lần và quay về thành phố xuất phát u sao cho chi phí là thấp nhất (Gọi C<sub>ij</sub> là chi phí đi từ thành phố i đến thành phố j).\n",
    "\n",
    "- Cách giải quyết bài toán: Bài toán chính là tìm chu trình Hamilton với chi phí thấp nhất, có thể sử dụng đệ quy phi tuyến để giải quyết.\n",
    "\n",
    "&rArr; Kết quả tối ưu nhưng độ phức tạp cao.\n",
    "\n",
    "- Một cách giải quyết gần đúng là sử dụng phương pháp tham lam. Cụ thể là thuật giải GTS <b>(Greedy Travelling Salesman)</b>"
   ]
  },
  {
   "cell_type": "markdown",
   "id": "67f8730e",
   "metadata": {},
   "source": [
    "### Thuật giải GTS1\n",
    "\n",
    "<p>Bước 1: [Khởi đầu]</p>\n",
    "<ul>\n",
    "  <li>COST = 0, TOUR = &empty;, v = u (u là thành phố xuất phát)</li>\n",
    "</ul>\n",
    "<p>Bước 2: [Thăm tất cả các thành phố]</p>\n",
    "<ul>\n",
    "  <li>Cho k chạy từ 1 đến n - 1 qua bước 3</li>\n",
    "</ul>\n",
    "<p>Bước 3: [Tìm cạnh có chi phí thấp nhất]</p>\n",
    "<ul>\n",
    "  <li>Tìm (v,w) là cạnh có chi phí thấp nhất  từ v đến các đỉnh chưa đi qua w:</li>\n",
    "  <li>COST = COST + C[v,w]</li>\n",
    "  <li>TOUR = TOUR + (v,w)</li>\n",
    "  <li>v = w</li>\n",
    "</ul>\n",
    "<p>Bước 4: [Quay về thành phố xuất phát]</p>\n",
    "<ul>\n",
    "  <li>COST = COST + C[v,u]</li>\n",
    "  <li>TOUR = TOUR + (v,u)</li>\n",
    "</ul>"
   ]
  },
  {
   "cell_type": "markdown",
   "id": "de568110",
   "metadata": {},
   "source": [
    "![image](dothi1.png)\n",
    "\n",
    "a. Tìm hành trình tốt nhất và chi phí tương ứng theo thuật giải GTS1 với thành phố xuất\n",
    "phát là A.\n",
    "\n",
    "b. Câu hỏi tương tự câu a nhưng thành phố xuất phát là C. Có nhận xét gì về hai kết quả\n",
    "trên?"
   ]
  },
  {
   "cell_type": "markdown",
   "id": "e271d11c",
   "metadata": {},
   "source": [
    "![image](dothi2.png)"
   ]
  },
  {
   "cell_type": "markdown",
   "id": "e1b14e4b",
   "metadata": {},
   "source": [
    "![image](dothi3.png)"
   ]
  },
  {
   "cell_type": "markdown",
   "id": "4471cf1d",
   "metadata": {},
   "source": [
    "![image](dothi4.png)"
   ]
  },
  {
   "cell_type": "markdown",
   "id": "36e4bd30",
   "metadata": {},
   "source": [
    "### Thuật giải GTS2\n",
    "\n",
    "<p> <b>Đầu vào:</b> Ma trận chi phí C, mảng V = {v1, v2, ..., vp} chứa p đỉnh xuất phát.</p>\n",
    "\n",
    "<p> <b>Đầu ra:</b> Hành trình tốt nhất và chi phí tương ứng với p đỉnh xuất phát trên.</p>"
   ]
  },
  {
   "cell_type": "markdown",
   "id": "bf59665f",
   "metadata": {},
   "source": [
    "### Ví dụ\n",
    "\n",
    "![image](vidu.png)\n",
    "\n",
    "<ul> <li> P = 3, V = {A, C, E} </li> </ul>"
   ]
  },
  {
   "cell_type": "markdown",
   "id": "9ba691fe",
   "metadata": {},
   "source": [
    "### Thuật giải MIN - MAX\n",
    "\n",
    "- Trong các trò chơi đối kháng, người chơi (A) luôn muốn cực đại hóa (max) cơ hội thắng của mình và cực tiểu hóa (min) cơ hội thắng của đối phương (B).\n",
    "\n",
    "- Gọi f là hàm mục tiêu (khả năng thắng của nước đi), khi đó A luôn muốn f(A) là cực đại còn f(B) là cực tiểu. Như vậy, vấn đề xác định hàm f là quan trọng nhất trong các bài toán sử dụng min - max.\n"
   ]
  },
  {
   "cell_type": "markdown",
   "id": "add513f6",
   "metadata": {},
   "source": [
    "### Bài toán mã đi tuần\n",
    "\n",
    "- Một con mã xuất phát từ 1 điểm bất kì trên bàn cờ vua có kích thước nxn. Làm thế nào để mã có thể đi qua tất cả các ô của bàn cờ, mỗi ô đúng 1 lần?\n",
    "\n",
    "- Cách giải quyết: Sử dụng đệ qui phi tuyến. Cách này sẽ khó thực hiện được nếu lớn.\n",
    "\n",
    "- Có thể sử dụng min - max để giải quyết bài toán.\n",
    "\n",
    "- f(A) = Số nước đi kế tiếp có thể có khi mã đang ở vị trí A.\n",
    "\n",
    "- Tiêu chí chọn lựa: Chọn nước đi kế tiếp (N) của quân mã sao cho f(N) đạt min."
   ]
  },
  {
   "cell_type": "markdown",
   "id": "7b6551e9",
   "metadata": {},
   "source": [
    "### Bài toán mã đi tuần\n",
    "\n",
    "![image](den.png)\n",
    "\n",
    "![image](do.png)"
   ]
  },
  {
   "cell_type": "markdown",
   "id": "0f71d7a5",
   "metadata": {},
   "source": [
    "### Bài toán tám quân hậu\n",
    "\n",
    "- Làm thế nào để đặt n quân Hậu trên bàn cờ vua có kích thước nxn sao cho chúng không ăn nhau?\n",
    "\n",
    "- Cách giải quyết: Sử dụng đệ quy phi tuyến. Cách này sẽ khó thực hiện được nếu n lớn.\n",
    "\n",
    "- Có thể sử dụng min - max để giải quyết bài toán.\n",
    "\n",
    "- f(A) = Số ô còn trống trên bàn cờ khi đã đặt Hậu tại A.\n",
    "\n",
    "- Tiêu chí chọn lựa: Chọn nước đi kế tiếp (N) của quân Hậu sao cho \n",
    "f(N) đạt max."
   ]
  },
  {
   "cell_type": "markdown",
   "id": "b261e1b2",
   "metadata": {},
   "source": [
    "![image](ttqh.png)\n",
    "\n",
    "![image](ttqh1.png)\n",
    "\n",
    "![image](ttqh2.png)\n",
    "\n",
    "![image](ttqh3.png)\n",
    "\n",
    "![image](ttqh4.png)\n",
    "\n",
    "![image](ttqh5.png)\n",
    "\n",
    "![image](ttqh6.png)\n",
    "\n",
    "![image](ttqh7.png)\n",
    "\n",
    "![image](ttqh8.png)"
   ]
  },
  {
   "cell_type": "markdown",
   "id": "8b87dcf2",
   "metadata": {},
   "source": [
    "### Phân công công việc\n",
    "\n",
    "Bài toán 1: Cho n công việc {J<sub>1</sub>,J<sub>2</sub>,...,J<sub>n</sub>} với thời gian thực hiện là T = {t<sub>1</sub>,t<sub>2</sub>,...,t<sub>n</sub>} và m máy. Hãy phân công các công việc vào các máy sao cho thời gian hoàn tất các công việc là thấp nhất.\n",
    "\n",
    "- Nhận xét: đây là bài toán lập lịch với độ phức tạp cao.\n",
    "\n",
    "- Cách giải quyết: dùng heuristic."
   ]
  },
  {
   "cell_type": "markdown",
   "id": "b4613900",
   "metadata": {},
   "source": [
    "### Giải quyết\n",
    "\n",
    "TH1: Giả sử ban đầu các máy đều chưa thực hiện công việc nào và có cùng công suất.\n",
    "\n",
    "<u>Bước 1:</u> Sắp xếp các công việc theo chiều giảm dần của thời gian thực hiện.\n",
    "\n",
    "i := 0;\n",
    "\n",
    "<u>Bước 2:</u>\n",
    "\n",
    "i := i+1\n",
    "\n",
    "Phân công việc i cho máy có thời gian hoàn tất các công việc hiện hành là thấp nhất.\n",
    "\n",
    "<u>Bước 3:</u> Lặp lại bước 2 cho đến khi i = n\n",
    "\n",
    "Ví dụ: cho n = 8 và T = {10,6,16,12,2,4,2,8}, m =3. Tính thời gian hoàn tất các công việc?\n",
    "\n",
    "Giải:\n",
    "\n",
    "<u>Bước 1</u>: Sắp xếp T = {16,12,10,8,6,4,2,2}, i = 0\n",
    "\n",
    "<u>Bước 2</u> (i = 1): phân công việc J3 có thời gian thực hiện là 16 cho máy 1 &rArr; t(M1) = 16\n",
    "\n",
    "<u>B3:Bước 2</u> (i = 2): phân công việc J4 có thời gian thực hiện là 12 cho máy 2 &rArr; t(M2) = 12\n",
    "\n",
    "<u>B2:Bước 2</u> (i = 3): phân công việc J1 có thời gian thực hiện là 10 cho máy 3 &rArr; t(M3) = 10\n",
    "\n",
    "<u>Bước 2</u> (i = 4): phân công việc J8 có thời gian thực hiện là 8 cho máy 3 &rArr; t(M3) = 10 + 8 = 18\n",
    "\n",
    "<u>Bước 2</u> (i = 5): phân công việc J2 có thời gian thực hiện là 6 cho máy 2 &rArr; t(M2) = 12 + 6 = 18\n",
    "\n",
    "<u>Bước 2</u> (i = 6): phân công việc J6 có thời gian thực hiện là 4 cho máy 1 &rArr; t(M1) = 16 + 4 = 20\n",
    "\n",
    "<u>Bước 2</u> (i = 7): phân công việc J5 có thời gian thực hiện là 2 cho máy 2 &rArr; t(M2) = 18 + 2 = 20\n",
    "\n",
    "<u>Bước 2</u> (i = 8): phân công việc J7 có thời gian thực hiện là 2 cho máy 3 &rArr; t(M3) = 20"
   ]
  },
  {
   "cell_type": "markdown",
   "id": "ef90f05f",
   "metadata": {},
   "source": [
    "### TH2: Giả sử ban đầu các máy đều chưa thực hiện công việc nào và có công suất khác nhau.\n",
    "\n",
    "- Thuật giải?\n",
    "\n",
    "- Ví dụ: cho n và T = {10,6,16,12,2,4,2,8}, m = 3 với công suất máy 2 nhanh gấp đôi máy 1 và máy 3 (giả sử thời gian ở trên được tính theo máy 1). Tính thời gian hoàn tất các công việc?\n",
    "\n",
    "- Có n luận văn với số trang lần lượt là {P1,P2,...,Pn} và có m người đánh máy {N1,...,Nm}, giả sử mỗi ngày Nj đánh được pj trang. Tính thời gian hoàn tất các luận văn?\n",
    "\n",
    "- Ví dụ: n = 10 và P = {60, 36, 96, 72, 24, 60, 84, 36, 84, 72}, m = 3 và p = {2, 3, 6}.\n",
    "\n",
    "- Có n kiện hàng với khối lượng (kg) lần lượt là {k<sub>1</sub>,k<sub>2</sub>,...,k<sub>n</sub>}, một container có thể chứa tối đa P kg. Hãy sắp xếp các kiện hàng vào các container sao cho số lượng container cần dùng là ít nhất?\n",
    "\n",
    "- Ví dụ: n = 10 và K = {6, 3, 9, 7, 2, 6, 4, 5, 8, 2}, P = 10"
   ]
  },
  {
   "cell_type": "markdown",
   "id": "63ee5a05",
   "metadata": {},
   "source": []
  }
 ],
 "metadata": {
  "kernelspec": {
   "display_name": "Python 3",
   "language": "python",
   "name": "python3"
  },
  "language_info": {
   "codemirror_mode": {
    "name": "ipython",
    "version": 3
   },
   "file_extension": ".py",
   "mimetype": "text/x-python",
   "name": "python",
   "nbconvert_exporter": "python",
   "pygments_lexer": "ipython3",
   "version": "3.12.1"
  }
 },
 "nbformat": 4,
 "nbformat_minor": 5
}
